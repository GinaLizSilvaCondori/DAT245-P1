{
  "nbformat": 4,
  "nbformat_minor": 0,
  "metadata": {
    "colab": {
      "provenance": []
    },
    "kernelspec": {
      "name": "python3",
      "display_name": "Python 3"
    },
    "language_info": {
      "name": "python"
    }
  },
  "cells": [
    {
      "cell_type": "code",
      "execution_count": null,
      "metadata": {
        "id": "V7ArC8ym6Cya"
      },
      "outputs": [],
      "source": [
        "def knapsack(weights, capacity):\n",
        "    # Número de artículos\n",
        "    n = len(weights)\n",
        "\n",
        "    # Crear la tabla de programación dinámica\n",
        "    dp = [[0] * (capacity + 1) for _ in range(n + 1)]\n",
        "\n",
        "    # Rellenar la tabla\n",
        "    for i in range(1, n + 1):\n",
        "        for w in range(1, capacity + 1):\n",
        "            if weights[i - 1] <= w:\n",
        "                dp[i][w] = max(dp[i - 1][w], dp[i - 1][w - weights[i - 1]] + 1)\n",
        "            else:\n",
        "                dp[i][w] = dp[i - 1][w]\n",
        "\n",
        "    # Reconstruir la solución\n",
        "    w = capacity\n",
        "    items_selected = []\n",
        "    for i in range(n, 0, -1):\n",
        "        if dp[i][w] != dp[i - 1][w]:\n",
        "            items_selected.append(weights[i - 1])\n",
        "            w -= weights[i - 1]\n",
        "\n",
        "    return dp[n][capacity], items_selected\n",
        "\n",
        "# Ejemplo de uso\n",
        "weights = [2, 3, 4, 5]  # Pesos de los artículos\n",
        "capacity = 10  # Capacidad de la mochila\n",
        "max_items, items = knapsack(weights, capacity)\n",
        "\n",
        "print(\"Máxima cantidad de artículos:\", max_items)\n",
        "print(\"Artículos seleccionados (pesos):\", items)\n"
      ]
    }
  ]
}