{
  "nbformat": 4,
  "nbformat_minor": 0,
  "metadata": {
    "colab": {
      "provenance": []
    },
    "kernelspec": {
      "name": "python3",
      "display_name": "Python 3"
    },
    "language_info": {
      "name": "python"
    }
  },
  "cells": [
    {
      "cell_type": "code",
      "source": [
        "pip install deap"
      ],
      "metadata": {
        "colab": {
          "base_uri": "https://localhost:8080/"
        },
        "id": "XNWfunxKzQ5g",
        "outputId": "fe7449df-33b8-41f3-f202-bd89a7885610"
      },
      "execution_count": 8,
      "outputs": [
        {
          "output_type": "stream",
          "name": "stdout",
          "text": [
            "Requirement already satisfied: deap in /usr/local/lib/python3.10/dist-packages (1.4.1)\n",
            "Requirement already satisfied: numpy in /usr/local/lib/python3.10/dist-packages (from deap) (1.26.4)\n"
          ]
        }
      ]
    },
    {
      "cell_type": "markdown",
      "source": [
        "**CON DEAP**"
      ],
      "metadata": {
        "id": "mhKFwFL02qdM"
      }
    },
    {
      "cell_type": "code",
      "execution_count": 7,
      "metadata": {
        "colab": {
          "base_uri": "https://localhost:8080/"
        },
        "id": "uwoLw5stzFJV",
        "outputId": "dffb955f-969d-4373-ba2f-621cd86f4160"
      },
      "outputs": [
        {
          "output_type": "stream",
          "name": "stdout",
          "text": [
            "gen\tnevals\n",
            "0  \t10    \n",
            "1  \t6     \n",
            "2  \t6     \n",
            "3  \t2     \n",
            "Mejor individuo: 31, Fitness: 962\n"
          ]
        }
      ],
      "source": [
        "import random\n",
        "from deap import base, creator, tools, algorithms\n",
        "\n",
        "creator.create(\"FitnessMax\", base.Fitness, weights=(1.0,))\n",
        "creator.create(\"Individual\", list, fitness=creator.FitnessMax)\n",
        "\n",
        "population_size = 10\n",
        "gene_length = 5\n",
        "generations = 3\n",
        "mutation_rate = 0.01\n",
        "crossover_point = 4\n",
        "\n",
        "def eval_fitness(individual):\n",
        "    decimal_value = int(\"\".join(map(str, individual)), 2)\n",
        "    return decimal_value ** 2 + 1,\n",
        "\n",
        "toolbox = base.Toolbox()\n",
        "toolbox.register(\"attr_bool\", random.randint, 0, 1)\n",
        "toolbox.register(\"individual\", tools.initRepeat, creator.Individual, toolbox.attr_bool, gene_length)\n",
        "toolbox.register(\"population\", tools.initRepeat, list, toolbox.individual)\n",
        "toolbox.register(\"evaluate\", eval_fitness)\n",
        "toolbox.register(\"mate\", tools.cxTwoPoint)\n",
        "toolbox.register(\"mutate\", tools.mutFlipBit, indpb=mutation_rate)\n",
        "toolbox.register(\"select\", tools.selTournament, tournsize=3)\n",
        "\n",
        "def genetic_algorithm_deap():\n",
        "    population = toolbox.population(n=population_size)\n",
        "\n",
        "    algorithms.eaSimple(population, toolbox, cxpb=0.5, mutpb=mutation_rate, ngen=generations,\n",
        "                        stats=None, halloffame=None, verbose=True)\n",
        "\n",
        "    best_ind = tools.selBest(population, 1)[0]\n",
        "    best_value = int(\"\".join(map(str, best_ind)), 2)\n",
        "    print(f\"Mejor individuo: {best_value}, Fitness: {eval_fitness(best_ind)[0]}\")\n",
        "\n",
        "genetic_algorithm_deap()"
      ]
    },
    {
      "cell_type": "markdown",
      "source": [
        "**SIN DEAP**"
      ],
      "metadata": {
        "id": "mx1IguEy2tQL"
      }
    },
    {
      "cell_type": "code",
      "source": [
        "import random\n",
        "\n",
        "population_size = 10\n",
        "gene_length = 5\n",
        "generations = 3\n",
        "mutation_rate = 0.01\n",
        "crossover_point = 4\n",
        "\n",
        "def fitness(individual):\n",
        "    decimal_value = int(\"\".join(map(str, individual)), 2)\n",
        "    return decimal_value ** 2 + 1\n",
        "\n",
        "def create_individual():\n",
        "    return [random.randint(0, 1) for _ in range(gene_length)]\n",
        "\n",
        "def create_population():\n",
        "    return [create_individual() for _ in range(population_size)]\n",
        "\n",
        "def selection(population):\n",
        "    return random.choices(population, k=2, weights=[fitness(ind) for ind in population])\n",
        "\n",
        "def crossover(parent1, parent2):\n",
        "    child1 = parent1[:crossover_point] + parent2[crossover_point:]\n",
        "    child2 = parent2[:crossover_point] + parent1[crossover_point:]\n",
        "    return child1, child2\n",
        "\n",
        "def mutate(individual):\n",
        "    if random.random() < mutation_rate:\n",
        "        mutate_point = random.randint(0, gene_length - 1)\n",
        "        individual[mutate_point] = 1 - individual[mutate_point]\n",
        "    return individual\n",
        "\n",
        "def genetic_algorithm():\n",
        "    population = create_population()\n",
        "\n",
        "    for generation in range(generations):\n",
        "        new_population = []\n",
        "        print(f\"\\nGeneración {generation + 1}\")\n",
        "        for i in range(population_size // 2):\n",
        "            parent1, parent2 = selection(population)\n",
        "            child1, child2 = crossover(parent1, parent2)\n",
        "            child1 = mutate(child1)\n",
        "            child2 = mutate(child2)\n",
        "            new_population.extend([child1, child2])\n",
        "\n",
        "            print(f\"Padre 1: {parent1} ({int(''.join(map(str, parent1)), 2)})\")\n",
        "            print(f\"Padre 2: {parent2} ({int(''.join(map(str, parent2)), 2)})\")\n",
        "            print(f\"Hijo 1: {child1} ({int(''.join(map(str, child1)), 2)})\")\n",
        "            print(f\"Hijo 2: {child2} ({int(''.join(map(str, child2)), 2)})\")\n",
        "\n",
        "        population = new_population\n",
        "\n",
        "        best_individual = max(population, key=fitness)\n",
        "        best_value = int(\"\".join(map(str, best_individual)), 2)\n",
        "        print(f\"Mejor individuo: {best_value}, Fitness = {fitness(best_individual)}\")\n",
        "\n",
        "genetic_algorithm()"
      ],
      "metadata": {
        "colab": {
          "base_uri": "https://localhost:8080/"
        },
        "id": "eVQ1Memz2u-x",
        "outputId": "b52717c4-2556-4065-93b0-c42ab84485ef"
      },
      "execution_count": 9,
      "outputs": [
        {
          "output_type": "stream",
          "name": "stdout",
          "text": [
            "\n",
            "Generación 1\n",
            "Padre 1: [1, 0, 1, 1, 0] (22)\n",
            "Padre 2: [1, 1, 0, 1, 0] (26)\n",
            "Hijo 1: [1, 0, 1, 1, 0] (22)\n",
            "Hijo 2: [1, 1, 0, 1, 0] (26)\n",
            "Padre 1: [1, 0, 0, 1, 1] (19)\n",
            "Padre 2: [0, 1, 1, 0, 1] (13)\n",
            "Hijo 1: [1, 0, 0, 1, 1] (19)\n",
            "Hijo 2: [0, 1, 1, 0, 1] (13)\n",
            "Padre 1: [1, 0, 1, 0, 1] (21)\n",
            "Padre 2: [1, 1, 1, 1, 0] (30)\n",
            "Hijo 1: [1, 0, 1, 0, 0] (20)\n",
            "Hijo 2: [1, 1, 1, 1, 1] (31)\n",
            "Padre 1: [0, 1, 0, 1, 0] (10)\n",
            "Padre 2: [1, 1, 1, 0, 1] (29)\n",
            "Hijo 1: [0, 1, 0, 1, 1] (11)\n",
            "Hijo 2: [1, 1, 1, 0, 0] (28)\n",
            "Padre 1: [1, 1, 0, 1, 0] (26)\n",
            "Padre 2: [1, 0, 1, 1, 0] (22)\n",
            "Hijo 1: [1, 1, 0, 1, 0] (26)\n",
            "Hijo 2: [1, 0, 1, 1, 0] (22)\n",
            "Mejor individuo: 31, Fitness = 962\n",
            "\n",
            "Generación 2\n",
            "Padre 1: [1, 1, 0, 1, 0] (26)\n",
            "Padre 2: [1, 1, 0, 1, 0] (26)\n",
            "Hijo 1: [1, 1, 0, 1, 0] (26)\n",
            "Hijo 2: [1, 1, 0, 1, 0] (26)\n",
            "Padre 1: [1, 1, 0, 1, 0] (26)\n",
            "Padre 2: [1, 1, 0, 1, 0] (26)\n",
            "Hijo 1: [1, 1, 0, 1, 0] (26)\n",
            "Hijo 2: [1, 1, 0, 1, 0] (26)\n",
            "Padre 1: [1, 1, 1, 0, 0] (28)\n",
            "Padre 2: [1, 1, 0, 1, 0] (26)\n",
            "Hijo 1: [1, 1, 1, 0, 0] (28)\n",
            "Hijo 2: [1, 1, 0, 1, 0] (26)\n",
            "Padre 1: [1, 0, 1, 1, 0] (22)\n",
            "Padre 2: [1, 1, 1, 0, 0] (28)\n",
            "Hijo 1: [1, 0, 1, 1, 0] (22)\n",
            "Hijo 2: [1, 1, 1, 0, 0] (28)\n",
            "Padre 1: [1, 1, 0, 1, 0] (26)\n",
            "Padre 2: [0, 1, 1, 0, 1] (13)\n",
            "Hijo 1: [1, 1, 0, 1, 1] (27)\n",
            "Hijo 2: [0, 1, 1, 0, 0] (12)\n",
            "Mejor individuo: 28, Fitness = 785\n",
            "\n",
            "Generación 3\n",
            "Padre 1: [1, 1, 0, 1, 0] (26)\n",
            "Padre 2: [1, 1, 0, 1, 0] (26)\n",
            "Hijo 1: [1, 1, 0, 1, 0] (26)\n",
            "Hijo 2: [1, 1, 0, 1, 0] (26)\n",
            "Padre 1: [1, 1, 0, 1, 0] (26)\n",
            "Padre 2: [1, 1, 0, 1, 0] (26)\n",
            "Hijo 1: [1, 1, 0, 1, 0] (26)\n",
            "Hijo 2: [1, 1, 0, 1, 0] (26)\n",
            "Padre 1: [1, 1, 0, 1, 0] (26)\n",
            "Padre 2: [1, 0, 1, 1, 0] (22)\n",
            "Hijo 1: [1, 1, 0, 1, 0] (26)\n",
            "Hijo 2: [1, 0, 1, 1, 0] (22)\n",
            "Padre 1: [1, 1, 1, 0, 0] (28)\n",
            "Padre 2: [1, 1, 0, 1, 0] (26)\n",
            "Hijo 1: [1, 1, 1, 0, 0] (28)\n",
            "Hijo 2: [1, 1, 0, 1, 0] (26)\n",
            "Padre 1: [1, 1, 0, 1, 1] (27)\n",
            "Padre 2: [1, 1, 0, 1, 0] (26)\n",
            "Hijo 1: [1, 1, 0, 1, 0] (26)\n",
            "Hijo 2: [1, 1, 0, 1, 1] (27)\n",
            "Mejor individuo: 28, Fitness = 785\n"
          ]
        }
      ]
    }
  ]
}