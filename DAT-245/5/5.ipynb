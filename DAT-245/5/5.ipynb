{
  "nbformat": 4,
  "nbformat_minor": 0,
  "metadata": {
    "colab": {
      "provenance": []
    },
    "kernelspec": {
      "name": "python3",
      "display_name": "Python 3"
    },
    "language_info": {
      "name": "python"
    }
  },
  "cells": [
    {
      "cell_type": "code",
      "source": [
        "# Instalar scikit-learn si aún no está instalado\n",
        "!pip install scikit-learn\n",
        "\n",
        "# Importar las bibliotecas necesarias\n",
        "import pandas as pd\n",
        "from sklearn.model_selection import train_test_split\n",
        "from sklearn.linear_model import Ridge, Lasso\n",
        "from sklearn.metrics import mean_squared_error\n",
        "from google.colab import drive\n",
        "drive.mount(\"/content/Drive\")\n",
        "\n",
        "# Cargar el archivo CSV (ajusta el nombre del archivo si es necesario)\n",
        "df = pd.read_csv(\"/content/Drive/MyDrive/datos/trabajoremoto.csv\")\n",
        "\n",
        "#PENALIZACION\n",
        "c = df['Age'].tolist()\n",
        "\n",
        "#L1\n",
        "def penalizacion_L1(coeficientes, lambda_val):\n",
        "    l1_penalizacion = 0\n",
        "    for w in coeficientes:\n",
        "        l1_penalizacion += abs(w)\n",
        "    return lambda_val * l1_penalizacion\n",
        "#L2\n",
        "def penalizacion_L2(coeficientes, lambda_val):\n",
        "    l2_penalizacion = 0\n",
        "    for w in coeficientes:\n",
        "        l2_penalizacion += w ** 2\n",
        "    return lambda_val * l2_penalizacion\n",
        "\n",
        "\n",
        "lambda_val = 0.05\n",
        "\n",
        "\n",
        "penalizacion_l1 = penalizacion_L1(c, lambda_val)\n",
        "penalizacion_l2 = penalizacion_L2(c, lambda_val)\n",
        "\n",
        "\n",
        "print(\"L1:\", penalizacion_l1)\n",
        "print(\"L2:\", penalizacion_l2)\n"
      ],
      "metadata": {
        "colab": {
          "base_uri": "https://localhost:8080/"
        },
        "id": "H4DoanNw4Avj",
        "outputId": "8a8395a2-869d-4657-8b68-0ab0c3bd54c0"
      },
      "execution_count": 6,
      "outputs": [
        {
          "output_type": "stream",
          "name": "stdout",
          "text": [
            "Requirement already satisfied: scikit-learn in /usr/local/lib/python3.10/dist-packages (1.5.2)\n",
            "Requirement already satisfied: numpy>=1.19.5 in /usr/local/lib/python3.10/dist-packages (from scikit-learn) (1.26.4)\n",
            "Requirement already satisfied: scipy>=1.6.0 in /usr/local/lib/python3.10/dist-packages (from scikit-learn) (1.13.1)\n",
            "Requirement already satisfied: joblib>=1.2.0 in /usr/local/lib/python3.10/dist-packages (from scikit-learn) (1.4.2)\n",
            "Requirement already satisfied: threadpoolctl>=3.1.0 in /usr/local/lib/python3.10/dist-packages (from scikit-learn) (3.5.0)\n",
            "Drive already mounted at /content/Drive; to attempt to forcibly remount, call drive.mount(\"/content/Drive\", force_remount=True).\n",
            "L1: 10248.75\n",
            "L2: 452041.15\n"
          ]
        }
      ]
    }
  ]
}